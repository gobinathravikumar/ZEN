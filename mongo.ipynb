{
 "cells": [
  {
   "cell_type": "code",
   "execution_count": 1,
   "id": "d5f521f7",
   "metadata": {},
   "outputs": [
    {
     "name": "stdout",
     "output_type": "stream",
     "text": [
      "Requirement already satisfied: pymongo in c:\\users\\lenovo\\appdata\\local\\programs\\python\\python311\\lib\\site-packages (4.3.3)\n",
      "Requirement already satisfied: dnspython<3.0.0,>=1.16.0 in c:\\users\\lenovo\\appdata\\local\\programs\\python\\python311\\lib\\site-packages (from pymongo) (2.3.0)\n",
      "Note: you may need to restart the kernel to use updated packages.\n"
     ]
    }
   ],
   "source": [
    "pip install pymongo"
   ]
  },
  {
   "cell_type": "code",
   "execution_count": 3,
   "id": "f47acc07",
   "metadata": {},
   "outputs": [],
   "source": [
    "import pymongo"
   ]
  },
  {
   "cell_type": "code",
   "execution_count": 4,
   "id": "5aa5b315",
   "metadata": {},
   "outputs": [],
   "source": [
    "client = pymongo.MongoClient(\"mongodb://localhost:27017/\")"
   ]
  },
  {
   "cell_type": "code",
   "execution_count": 31,
   "id": "1db231f5",
   "metadata": {},
   "outputs": [
    {
     "name": "stdout",
     "output_type": "stream",
     "text": [
      "['admin', 'config', 'gobi', 'local', 'youtube']\n"
     ]
    }
   ],
   "source": [
    "dbs = client.list_database_names()\n",
    "print(dbs)"
   ]
  },
  {
   "cell_type": "code",
   "execution_count": 32,
   "id": "faf0f784",
   "metadata": {},
   "outputs": [
    {
     "data": {
      "text/plain": [
       "['youtube', 'gobi']"
      ]
     },
     "execution_count": 32,
     "metadata": {},
     "output_type": "execute_result"
    }
   ],
   "source": [
    "db=client['gobi']\n",
    "cols=db.list_collection_names()\n",
    "cols"
   ]
  },
  {
   "cell_type": "code",
   "execution_count": 33,
   "id": "37005b37",
   "metadata": {},
   "outputs": [
    {
     "data": {
      "text/plain": [
       "<pymongo.results.InsertOneResult at 0x16bfcb87550>"
      ]
     },
     "execution_count": 33,
     "metadata": {},
     "output_type": "execute_result"
    }
   ],
   "source": [
    "youtube_col=db['youtube']\n",
    "data={'name':'gomu','age':25}\n",
    "youtube_col.insert_one(data)"
   ]
  },
  {
   "cell_type": "code",
   "execution_count": 36,
   "id": "2803229f",
   "metadata": {},
   "outputs": [
    {
     "data": {
      "text/plain": [
       "[ObjectId('6476d06d25f327db0368b84c'),\n",
       " ObjectId('6476d06d25f327db0368b84d'),\n",
       " ObjectId('6476d06d25f327db0368b84e')]"
      ]
     },
     "execution_count": 36,
     "metadata": {},
     "output_type": "execute_result"
    }
   ],
   "source": [
    "data=[\n",
    "    {'name':'gobi','age':27},\n",
    "    {'name':'kavin','age':4},\n",
    "    {'name':'ravi','age':48}\n",
    "]\n",
    "output=youtube_col.insert_many(data)\n",
    "output.inserted_ids"
   ]
  },
  {
   "cell_type": "code",
   "execution_count": 37,
   "id": "1ac34d5e",
   "metadata": {},
   "outputs": [
    {
     "name": "stdout",
     "output_type": "stream",
     "text": [
      "{'_id': ObjectId('6476ccb525f327db0368b845'), 'name': 'gomu', 'age': 25}\n",
      "{'_id': ObjectId('6476cd5625f327db0368b846'), 'name': 'gomu', 'age': 25}\n",
      "{'_id': ObjectId('6476cd8b25f327db0368b848'), 'name': 'gomu', 'age': 25}\n",
      "{'_id': ObjectId('6476ce3d25f327db0368b849'), 'name': 'gobi', 'age': 27}\n",
      "{'_id': ObjectId('6476ce3d25f327db0368b84a'), 'name': 'kavin', 'age': 4}\n",
      "{'_id': ObjectId('6476ce3d25f327db0368b84b'), 'name': 'ravi', 'age': 48}\n",
      "{'_id': ObjectId('6476d06d25f327db0368b84c'), 'name': 'gobi', 'age': 27}\n",
      "{'_id': ObjectId('6476d06d25f327db0368b84d'), 'name': 'kavin', 'age': 4}\n",
      "{'_id': ObjectId('6476d06d25f327db0368b84e'), 'name': 'ravi', 'age': 48}\n"
     ]
    }
   ],
   "source": [
    "output=youtube_col.find()\n",
    "for doc in output:\n",
    "    print(doc)"
   ]
  },
  {
   "cell_type": "code",
   "execution_count": 51,
   "id": "dcfe16b6",
   "metadata": {},
   "outputs": [
    {
     "name": "stdout",
     "output_type": "stream",
     "text": [
      "{'name': 'gomu'}\n",
      "{'name': 'gomu'}\n",
      "{'name': 'gomu'}\n",
      "{'name': 'gobi'}\n",
      "{'name': 'kavin'}\n",
      "{'name': 'ravi'}\n",
      "{'name': 'gobi'}\n",
      "{'name': 'kavin'}\n",
      "{'name': 'ravi'}\n"
     ]
    }
   ],
   "source": [
    "output=youtube_col.find({},{'_id':0,'age':0})\n",
    "for doc in output:\n",
    "    print(doc)"
   ]
  },
  {
   "cell_type": "code",
   "execution_count": 53,
   "id": "a0f714ab",
   "metadata": {},
   "outputs": [
    {
     "name": "stdout",
     "output_type": "stream",
     "text": [
      "{'_id': ObjectId('6476ccb525f327db0368b845'), 'name': 'gomu', 'age': 25}\n",
      "{'_id': ObjectId('6476cd5625f327db0368b846'), 'name': 'gomu', 'age': 25}\n",
      "{'_id': ObjectId('6476cd8b25f327db0368b848'), 'name': 'gomu', 'age': 25}\n",
      "{'_id': ObjectId('6476ce3d25f327db0368b849'), 'name': 'gobi', 'age': 27}\n",
      "{'_id': ObjectId('6476ce3d25f327db0368b84a'), 'name': 'kavin', 'age': 4}\n",
      "{'_id': ObjectId('6476ce3d25f327db0368b84b'), 'name': 'ravi', 'age': 48}\n",
      "{'_id': ObjectId('6476d06d25f327db0368b84c'), 'name': 'gobi', 'age': 27}\n",
      "{'_id': ObjectId('6476d06d25f327db0368b84d'), 'name': 'kavin', 'age': 4}\n",
      "{'_id': ObjectId('6476d06d25f327db0368b84e'), 'name': 'ravi', 'age': 48}\n"
     ]
    }
   ],
   "source": [
    "output=youtube_col.find()\n",
    "for doc in output:\n",
    "    print(doc)"
   ]
  },
  {
   "cell_type": "code",
   "execution_count": 54,
   "id": "12af5610",
   "metadata": {},
   "outputs": [
    {
     "name": "stdout",
     "output_type": "stream",
     "text": [
      "{'_id': ObjectId('6476ce3d25f327db0368b849'), 'name': 'gobi', 'age': 27}\n",
      "{'_id': ObjectId('6476d06d25f327db0368b84c'), 'name': 'gobi', 'age': 27}\n",
      "{'_id': ObjectId('6476ccb525f327db0368b845'), 'name': 'gomu', 'age': 25}\n",
      "{'_id': ObjectId('6476cd5625f327db0368b846'), 'name': 'gomu', 'age': 25}\n",
      "{'_id': ObjectId('6476cd8b25f327db0368b848'), 'name': 'gomu', 'age': 25}\n",
      "{'_id': ObjectId('6476ce3d25f327db0368b84a'), 'name': 'kavin', 'age': 4}\n",
      "{'_id': ObjectId('6476d06d25f327db0368b84d'), 'name': 'kavin', 'age': 4}\n",
      "{'_id': ObjectId('6476ce3d25f327db0368b84b'), 'name': 'ravi', 'age': 48}\n",
      "{'_id': ObjectId('6476d06d25f327db0368b84e'), 'name': 'ravi', 'age': 48}\n"
     ]
    }
   ],
   "source": [
    "output=youtube_col.find().sort('name')\n",
    "for doc in output:\n",
    "    print(doc)"
   ]
  },
  {
   "cell_type": "code",
   "execution_count": 5,
   "id": "aedb275a",
   "metadata": {},
   "outputs": [],
   "source": [
    "mydb = client['SBI']\n",
    "customer = mydb['customer']\n",
    "address = mydb['address']\n",
    "professional_info = mydb['professional_info']"
   ]
  },
  {
   "cell_type": "code",
   "execution_count": 15,
   "id": "beedafb5",
   "metadata": {},
   "outputs": [],
   "source": [
    "user_add = [{'hno':256,'city':'chd','pincode':160055},{'hno':257,'city':'chd1','pincode':160056}]\n",
    "add_id = address.insert_many(user_add)"
   ]
  },
  {
   "cell_type": "code",
   "execution_count": 16,
   "id": "188ef825",
   "metadata": {},
   "outputs": [],
   "source": [
    "user_profess = {'income':3.7,'tax':0}\n",
    "prof_id = professional_info.insert_one(user_profess)"
   ]
  },
  {
   "cell_type": "code",
   "execution_count": 17,
   "id": "c2f04f15",
   "metadata": {},
   "outputs": [
    {
     "name": "stdout",
     "output_type": "stream",
     "text": [
      "{'_id': ObjectId('647ae8b4fa274141a5a2a25f'), 'name': 'akshaydeep', 'address': {'per_add': [ObjectId('647ae891fa274141a5a2a25c'), ObjectId('647ae891fa274141a5a2a25d')]}, 'profession_info': [ObjectId('647ae8a6fa274141a5a2a25e')]}\n",
      "{'_id': ObjectId('647b0c5afa274141a5a2a263'), 'name': 'akshaydeep', 'address': {'per_add': [ObjectId('647b0c54fa274141a5a2a260'), ObjectId('647b0c54fa274141a5a2a261')]}, 'profession_info': [ObjectId('647b0c57fa274141a5a2a262')]}\n"
     ]
    }
   ],
   "source": [
    "data = {'name':\"akshaydeep\",'address':{'per_add':add_id.inserted_ids},'profession_info':[prof_id.inserted_id]}\n",
    "customer.insert_one(data)\n",
    "for doc in customer.find():\n",
    "    print(doc)\n",
    "    "
   ]
  },
  {
   "cell_type": "code",
   "execution_count": 18,
   "id": "15386612",
   "metadata": {},
   "outputs": [
    {
     "name": "stdout",
     "output_type": "stream",
     "text": [
      "{'_id': ObjectId('647ae8b4fa274141a5a2a25f'), 'name': 'akshaydeep', 'address': {'per_add': [ObjectId('647ae891fa274141a5a2a25c'), ObjectId('647ae891fa274141a5a2a25d')]}, 'profession_info': [ObjectId('647ae8a6fa274141a5a2a25e')]}\n",
      "{'_id': ObjectId('647b0c5afa274141a5a2a263'), 'name': 'akshaydeep', 'address': {'per_add': [ObjectId('647b0c54fa274141a5a2a260'), ObjectId('647b0c54fa274141a5a2a261')]}, 'profession_info': [ObjectId('647b0c57fa274141a5a2a262')]}\n"
     ]
    }
   ],
   "source": [
    "for doc in customer.find():\n",
    "    print(doc)"
   ]
  },
  {
   "cell_type": "code",
   "execution_count": 19,
   "id": "75a5f528",
   "metadata": {},
   "outputs": [
    {
     "name": "stdout",
     "output_type": "stream",
     "text": [
      "{'_id': ObjectId('647ae8a6fa274141a5a2a25e'), 'income': 3.7, 'tax': 0}\n",
      "{'_id': ObjectId('647b0c57fa274141a5a2a262'), 'income': 3.7, 'tax': 0}\n"
     ]
    }
   ],
   "source": [
    "for doc in customer.find():\n",
    "    for add in address.find({'_id':doc['address']['per_add']}):\n",
    "        print(add)\n",
    "    for info in professional_info.find({'_id':doc['profession_info'][0]}):\n",
    "        print(info)\n",
    "        "
   ]
  },
  {
   "cell_type": "code",
   "execution_count": 20,
   "id": "f1bbfaa2",
   "metadata": {},
   "outputs": [],
   "source": [
    "staff = mydb['staff']"
   ]
  },
  {
   "cell_type": "code",
   "execution_count": 21,
   "id": "a2e324b1",
   "metadata": {},
   "outputs": [
    {
     "name": "stdout",
     "output_type": "stream",
     "text": [
      "{'_id': ObjectId('647b1e08fa274141a5a2a264'), 'name': 'raj', 'course': 'DS', 'fee': 10, 'mentor': 'poonam'}\n",
      "{'_id': ObjectId('647b1e08fa274141a5a2a265'), 'name': 'hari', 'course': 'DS', 'fee': 10, 'mentor': 'poonam'}\n",
      "{'_id': ObjectId('647b1e08fa274141a5a2a266'), 'name': 'naveen', 'course': 'DS', 'fee': 10, 'mentor': 'poonam'}\n",
      "{'_id': ObjectId('647b1e08fa274141a5a2a267'), 'name': 'aroof', 'course': 'DS', 'fee': 10, 'mentor': 'poonam'}\n",
      "{'_id': ObjectId('647b1e08fa274141a5a2a268'), 'name': 'ram', 'course': 'DS', 'fee': 10, 'mentor': 'Amit'}\n",
      "{'_id': ObjectId('647b1e08fa274141a5a2a269'), 'name': 'laxman', 'course': 'DS', 'fee': 10, 'mentor': 'Amit'}\n",
      "{'_id': ObjectId('647b1e08fa274141a5a2a26a'), 'name': 'sugan', 'course': 'FSD', 'fee': 7, 'mentor': 'anamika'}\n",
      "{'_id': ObjectId('647b1e08fa274141a5a2a26b'), 'name': 'rajeshwaran', 'course': 'DS', 'fee': 7, 'mentor': 'anamika'}\n",
      "{'_id': ObjectId('647b1e08fa274141a5a2a26c'), 'name': 'mohak', 'course': 'DS', 'fee': 7, 'mentor': 'anamika'}\n",
      "{'_id': ObjectId('647b1e08fa274141a5a2a26d'), 'name': 'shalini', 'course': 'DS', 'fee': 7, 'mentor': 'simran'}\n",
      "{'_id': ObjectId('647b1e08fa274141a5a2a26e'), 'name': 'praveen', 'course': 'DS', 'fee': 7, 'mentor': 'simran'}\n",
      "{'_id': ObjectId('647b1e08fa274141a5a2a26f'), 'name': 'balaji', 'course': 'DS', 'fee': 7, 'mentor': 'simran'}\n"
     ]
    }
   ],
   "source": [
    "data = [\n",
    "    {'name':'raj','course':'DS','fee':10,'mentor':'poonam'},\n",
    "    {'name':'hari','course':'DS','fee':10,'mentor':'poonam'},\n",
    "    {'name':'naveen','course':'DS','fee':10,'mentor':'poonam'},\n",
    "    {'name':'aroof','course':'DS','fee':10,'mentor':'poonam'},\n",
    "    {'name':'ram','course':'DS','fee':10,'mentor':'Amit'},\n",
    "    {'name':'laxman','course':'DS','fee':10,'mentor':'Amit'},\n",
    "    {'name':'sugan','course':'FSD','fee':7,'mentor':'anamika'},\n",
    "    {'name':'rajeshwaran','course':'DS','fee':7,'mentor':'anamika'},\n",
    "    {'name':'mohak','course':'DS','fee':7,'mentor':'anamika'},\n",
    "    {'name':'shalini','course':'DS','fee':7,'mentor':'simran'},\n",
    "    {'name':'praveen','course':'DS','fee':7,'mentor':'simran'},\n",
    "    {'name':'balaji','course':'DS','fee':7,'mentor':'simran'},\n",
    "    \n",
    "]\n",
    "staff.insert_many(data)\n",
    "for doc in staff.find():\n",
    "    print(doc)"
   ]
  },
  {
   "cell_type": "code",
   "execution_count": 22,
   "id": "a3bca255",
   "metadata": {},
   "outputs": [],
   "source": [
    "mydb=client['bank']"
   ]
  },
  {
   "cell_type": "code",
   "execution_count": 24,
   "id": "f214efd0",
   "metadata": {},
   "outputs": [
    {
     "data": {
      "text/plain": [
       "<pymongo.results.InsertManyResult at 0x2362e71ab60>"
      ]
     },
     "execution_count": 24,
     "metadata": {},
     "output_type": "execute_result"
    }
   ],
   "source": [
    "data=[{'name':'ravi','state':'tn','balance':4000,'family_size':3},\n",
    "      {'name':'kavi','state':'kl','balance':5000,'family_size':2},\n",
    "     ]\n",
    "mydb.customer.insert_many(data)"
   ]
  },
  {
   "cell_type": "code",
   "execution_count": 33,
   "id": "62d05755",
   "metadata": {},
   "outputs": [
    {
     "name": "stdout",
     "output_type": "stream",
     "text": [
      "{'_id': ObjectId('647b2a80fa274141a5a2a270'), 'name': 'gobi', 'state': 'tn', 'balance': 2000, 'family_size': 4}\n",
      "{'_id': ObjectId('647b2a80fa274141a5a2a271'), 'name': 'gomu', 'state': 'kl', 'balance': 3000, 'family_size': 4}\n",
      "{'_id': ObjectId('647b2aa4fa274141a5a2a272'), 'name': 'ravi', 'state': 'tn', 'balance': 4000, 'family_size': 3}\n",
      "{'_id': ObjectId('647b2aa4fa274141a5a2a273'), 'name': 'kavi', 'state': 'kl', 'balance': 5000, 'family_size': 2}\n"
     ]
    }
   ],
   "source": [
    "result1=mydb.customer.find()\n",
    "for go in result1:\n",
    "    print(go)"
   ]
  },
  {
   "cell_type": "code",
   "execution_count": 50,
   "id": "06508237",
   "metadata": {},
   "outputs": [
    {
     "name": "stdout",
     "output_type": "stream",
     "text": [
      "{'_id': 'tn', 'avg_bal': 3000.0, 'avg_fam': 3.5, 'count': 7}\n",
      "{'_id': 'kl', 'avg_bal': 4000.0, 'avg_fam': 3.0, 'count': 6}\n"
     ]
    }
   ],
   "source": [
    "result2=mydb.customer.aggregate([{'$group':{'_id':'$state','avg_bal':{'$avg':'$balance'},'avg_fam':{'$avg':'$family_size'},\n",
    "                                            'count':{'$sum':'$family_size'}}}])\n",
    "for group in result2:\n",
    "    print(group)"
   ]
  },
  {
   "cell_type": "code",
   "execution_count": null,
   "id": "2a4d5ece",
   "metadata": {},
   "outputs": [],
   "source": []
  },
  {
   "cell_type": "code",
   "execution_count": null,
   "id": "8418c04b",
   "metadata": {},
   "outputs": [],
   "source": []
  }
 ],
 "metadata": {
  "kernelspec": {
   "display_name": "Python 3 (ipykernel)",
   "language": "python",
   "name": "python3"
  },
  "language_info": {
   "codemirror_mode": {
    "name": "ipython",
    "version": 3
   },
   "file_extension": ".py",
   "mimetype": "text/x-python",
   "name": "python",
   "nbconvert_exporter": "python",
   "pygments_lexer": "ipython3",
   "version": "3.11.2"
  }
 },
 "nbformat": 4,
 "nbformat_minor": 5
}
