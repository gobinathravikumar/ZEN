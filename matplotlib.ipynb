{
 "cells": [
  {
   "cell_type": "code",
   "execution_count": null,
   "id": "c901678d",
   "metadata": {},
   "outputs": [],
   "source": [
    "import matplotlib.pyplot as plt\n",
    "import numpy as np\n",
    "x=np.linspace (0,2,100)\n",
    "fig, ax = plt.subplots(figsize=(5, 2.7))\n",
    "ax.plot(x, x, label='linear')\n",
    "ax.plot(x, x**2, label='quadratic')\n",
    "ax.plot(x, x**3, label='cubic')\n",
    "ax.set_xlabel('x label')\n",
    "ax.set_ylabel('y label')\n",
    "ax.set_title('simple plot')\n",
    "ax.legend();"
   ]
  },
  {
   "cell_type": "code",
   "execution_count": null,
   "id": "0a479e8d",
   "metadata": {},
   "outputs": [],
   "source": [
    "xpoint = [2,3,5]\n",
    "ypoint = [3,6,8]\n",
    "\n",
    "#(1,26), (5,30)\n",
    "plt.plot(xpoint,ypoint,'o')\n",
    "plt.show()"
   ]
  },
  {
   "cell_type": "code",
   "execution_count": null,
   "id": "b4ee6df6",
   "metadata": {},
   "outputs": [],
   "source": [
    "xpoint = [2,3,5]\n",
    "ypoint = [3,6,8]\n",
    "\n",
    "#(1,26), (5,30)\n",
    "plt.plot(xpoint,ypoint,'*')\n",
    "plt.show()"
   ]
  },
  {
   "cell_type": "code",
   "execution_count": null,
   "id": "42e879d3",
   "metadata": {},
   "outputs": [],
   "source": [
    "xpoint = [2,3,5]\n",
    "ypoint = [3,6,8]\n",
    "\n",
    "#(1,26), (5,30)\n",
    "plt.plot(xpoint,ypoint,marker = 's')\n",
    "plt.show()"
   ]
  },
  {
   "cell_type": "code",
   "execution_count": null,
   "id": "f4410271",
   "metadata": {},
   "outputs": [],
   "source": [
    "xpoint = []\n",
    "ypoint = []\n",
    "for x in range(11):\n",
    "    pointx = input()\n",
    "    pointy = input()\n",
    "    xpoint.append(pointx)\n",
    "    ypoint.append(pointy)\n",
    "     \n",
    "\n",
    "#(1,26), (5,30)\n",
    "plt.plot(xpoint,ypoint,'o')\n",
    "plt.show()"
   ]
  },
  {
   "cell_type": "code",
   "execution_count": null,
   "id": "78a9604d",
   "metadata": {},
   "outputs": [],
   "source": [
    "xpoint = [2,3,5]\n",
    "ypoint = [3,6,8]\n",
    "\n",
    "#(1,26), (5,30)\n",
    "plt.plot(xpoint,ypoint,marker = 's',c='#e8b86e')\n",
    "plt.show()"
   ]
  },
  {
   "cell_type": "code",
   "execution_count": null,
   "id": "ee5d902d",
   "metadata": {},
   "outputs": [],
   "source": [
    "days = [1,2,3,4,5,6,7]\n",
    "abc = [100,109,102,104,107,105,110]\n",
    "defg = [50,90,110,150,250,110,119]\n",
    "plt.plot(days,abc,label = \"abc\",marker = 's',c='#121954',ms=6,mec = \"yellow\",mfc=\"green\",linestyle=\"dotted\",linewidth=3)\n",
    "plt.plot(days,defg,label = \"defg\",marker = '*',c='red',ms=6,mec = \"blue\",mfc=\"blue\",linestyle=\"dashed\",linewidth=2)\n",
    "plt.legend()\n",
    "plt.show()"
   ]
  },
  {
   "cell_type": "code",
   "execution_count": null,
   "id": "5506cf2e",
   "metadata": {},
   "outputs": [],
   "source": [
    "plt.plot(days,abc,label = \"abc\",marker = 's',c='#121954',ms=6,mec = \"yellow\",mfc=\"green\",linestyle=\"dotted\",linewidth=3)\n",
    "plt.plot(days,defg,label = \"defg\",marker = '*',c='red',ms=6,mec = \"blue\",mfc=\"blue\",linestyle=\"dashed\",linewidth=2)\n",
    "plt.legend()\n",
    "plt.xlabel(\"Day\",color = \"red\",size=16)\n",
    "plt.ylabel(\"Sales\",color= \"blue\")\n",
    "plt.title(\"Per day sale\",color = \"green\")\n",
    "\n",
    "plt.grid()\n",
    "\n",
    "plt.show()"
   ]
  },
  {
   "cell_type": "code",
   "execution_count": null,
   "id": "8de29db1",
   "metadata": {},
   "outputs": [],
   "source": []
  },
  {
   "cell_type": "code",
   "execution_count": null,
   "id": "37a2302c",
   "metadata": {},
   "outputs": [],
   "source": []
  },
  {
   "cell_type": "code",
   "execution_count": null,
   "id": "010af3af",
   "metadata": {},
   "outputs": [],
   "source": []
  }
 ],
 "metadata": {
  "kernelspec": {
   "display_name": "Python 3 (ipykernel)",
   "language": "python",
   "name": "python3"
  },
  "language_info": {
   "codemirror_mode": {
    "name": "ipython",
    "version": 3
   },
   "file_extension": ".py",
   "mimetype": "text/x-python",
   "name": "python",
   "nbconvert_exporter": "python",
   "pygments_lexer": "ipython3",
   "version": "3.11.2"
  }
 },
 "nbformat": 4,
 "nbformat_minor": 5
}
